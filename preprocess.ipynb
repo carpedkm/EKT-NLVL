{
 "cells": [
  {
   "cell_type": "code",
   "execution_count": 16,
   "metadata": {},
   "outputs": [],
   "source": [
    "pth = '/ekt-nlvl/data/charades/annotations/charades_bartsumm_unsup_as_gt_using_iou_mnli_nb4_lp2.0_maxl50_minl10_ng3.txt'"
   ]
  },
  {
   "cell_type": "code",
   "execution_count": 2,
   "metadata": {},
   "outputs": [],
   "source": [
    "with open(pth, 'r') as f:\n",
    "    tmp = f.readlines()"
   ]
  },
  {
   "cell_type": "code",
   "execution_count": 11,
   "metadata": {},
   "outputs": [],
   "source": [
    "import os\n",
    "newlist = ''\n",
    "for line_ in tmp:\n",
    "    vid, start, end = line_.split('##')[0].split(' ')\n",
    "    sent = line_.split('##')[1].strip()\n",
    "    if sent[-1] != '.':\n",
    "        sent = sent.split('.')\n",
    "        sent_ = sent[:-1]\n",
    "        sent_ = '.'.join(sent_)\n",
    "        sent_ = sent_ + '.\\n'\n",
    "    if len(sent) <= 5:\n",
    "        continue\n",
    "    newsent = vid + ' ' + start + ' ' + end + '##' + sent_\n",
    "    newlist = newlist + newsent\n",
    "\n",
    "         "
   ]
  },
  {
   "cell_type": "code",
   "execution_count": 8,
   "metadata": {},
   "outputs": [],
   "source": [
    "towr = ''.join(newlist)"
   ]
  },
  {
   "cell_type": "code",
   "execution_count": 13,
   "metadata": {},
   "outputs": [],
   "source": [
    "with open(pth, 'w') as f:\n",
    "    f.writelines(newlist)"
   ]
  },
  {
   "cell_type": "code",
   "execution_count": 14,
   "metadata": {},
   "outputs": [],
   "source": [
    "a = [1, 2, 3]"
   ]
  },
  {
   "cell_type": "code",
   "execution_count": 15,
   "metadata": {},
   "outputs": [
    {
     "data": {
      "text/plain": [
       "[1, 2]"
      ]
     },
     "execution_count": 15,
     "metadata": {},
     "output_type": "execute_result"
    }
   ],
   "source": [
    "a[:-1]"
   ]
  },
  {
   "cell_type": "code",
   "execution_count": null,
   "metadata": {},
   "outputs": [],
   "source": []
  }
 ],
 "metadata": {
  "interpreter": {
   "hash": "d4d1e4263499bec80672ea0156c357c1ee493ec2b1c70f0acce89fc37c4a6abe"
  },
  "kernelspec": {
   "display_name": "Python 3.7.4 ('base')",
   "language": "python",
   "name": "python3"
  },
  "language_info": {
   "codemirror_mode": {
    "name": "ipython",
    "version": 3
   },
   "file_extension": ".py",
   "mimetype": "text/x-python",
   "name": "python",
   "nbconvert_exporter": "python",
   "pygments_lexer": "ipython3",
   "version": "3.7.11"
  },
  "orig_nbformat": 4
 },
 "nbformat": 4,
 "nbformat_minor": 2
}
