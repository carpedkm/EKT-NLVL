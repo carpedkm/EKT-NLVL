{
 "cells": [
  {
   "cell_type": "code",
   "execution_count": 2,
   "metadata": {},
   "outputs": [],
   "source": [
    "pth = '/ektnlvl/data/ActivityNet/captions/annotations/anet_filtered_set_4_shit.json'"
   ]
  },
  {
   "cell_type": "code",
   "execution_count": 3,
   "metadata": {},
   "outputs": [],
   "source": [
    "import json\n",
    "with open(pth, 'r') as f:\n",
    "    tmp = json.load(f)"
   ]
  },
  {
   "cell_type": "code",
   "execution_count": 7,
   "metadata": {},
   "outputs": [
    {
     "name": "stdout",
     "output_type": "stream",
     "text": [
      "v_LslQvR_4bkk {'duration': 169.99, 'timestamps': [[111.72298742138365, 128.8288993710692], [111.72298742138365, 128.8288993710692]], 'sentences': ['', 'a group of men playing a game of ̶. a close up of a person holding a tennis racket. a man in a black helmet is riding a �. a skier in a is wearing a black and white']} \n",
      "hi\n"
     ]
    }
   ],
   "source": [
    "for key in tmp.keys():\n",
    "    dics = tmp[key]\n",
    "    for sent in dics['sentences']:\n",
    "        if len(sent) == 0:\n",
    "            print(key, dics, sent)\n",
    "            print('hi')"
   ]
  },
  {
   "cell_type": "code",
   "execution_count": null,
   "metadata": {},
   "outputs": [],
   "source": []
  },
  {
   "cell_type": "code",
   "execution_count": null,
   "metadata": {},
   "outputs": [],
   "source": []
  },
  {
   "cell_type": "code",
   "execution_count": null,
   "metadata": {},
   "outputs": [],
   "source": []
  }
 ],
 "metadata": {
  "interpreter": {
   "hash": "3854e3021340062fd1721197042bcc7a6830c22dc8a033c1ac98758645068566"
  },
  "kernelspec": {
   "display_name": "Python 3.6.13 ('tg')",
   "language": "python",
   "name": "python3"
  },
  "language_info": {
   "codemirror_mode": {
    "name": "ipython",
    "version": 3
   },
   "file_extension": ".py",
   "mimetype": "text/x-python",
   "name": "python",
   "nbconvert_exporter": "python",
   "pygments_lexer": "ipython3",
   "version": "3.6.13"
  },
  "orig_nbformat": 4
 },
 "nbformat": 4,
 "nbformat_minor": 2
}
